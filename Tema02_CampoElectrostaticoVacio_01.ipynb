{
 "cells": [
  {
   "cell_type": "markdown",
   "id": "fb22c439-c4ce-4913-b2ee-4ae4ee7c871b",
   "metadata": {},
   "source": [
    "# Fundamentos de Teoría Electromagnética\n",
    "\n",
    "## Campo electrostático en el vacío: Fundamentos teóricos y ecuaciones del campo eléctrico\n",
    "\n",
    "Elaborado por: **Japhet Arellanos**\n",
    "\n",
    "Adaptado de las notas del curso de *Fundamentos de Teoría Electromagnética* del Dr. Andrés Tejero Andrade\n",
    "\n",
    "---"
   ]
  },
  {
   "cell_type": "markdown",
   "id": "30e8f0ec-3098-4f40-a17e-1116bef8f5ea",
   "metadata": {},
   "source": [
    "### El campo eléctrico"
   ]
  },
  {
   "cell_type": "markdown",
   "id": "3d34ade4-817d-45c1-9fe1-65f6ec971de2",
   "metadata": {},
   "source": [
    "Su estudio se fundamenta en la Ley de Coulomb, la cual dice que la fuerza que ejercen dos cargas fijas en el espacio es directamente el producto de las cargas e inverso al cuadrado de las distancias que las separa:\n",
    "\n",
    "$$\n",
    "\\mathbf{F} = \\frac{1}{4 \\pi \\varepsilon_{0}} \\frac{q_{1} q_{2}}{R^{2}} \\hat{\\mathbf{R}}\n",
    "$$\n",
    "\n",
    "<center><img src = './utils/images/*'></center>\n",
    "\n",
    "donde $\\varepsilon_{0}$ es la permitividad eléctrica en el vacío y $\\hat{\\mathbf{R}}$ es el vector unitario. Si ambas cargas son iguales, se atraerán; si son distintas, se van a repeler por una fuerza dada por esta ley. El concepto de campo se visualiza como algo que existe sin que sea percibido físicamente. La ley de Coulomb dice que, para que la fuerza exista, es necesario que exista otra carga; pero en el caso del campo, no es así. Independientemente que se compruebe la existencia de campo, un campo de fuerza por sí mismo no existe. Este concepto ha sido expresado matemáticamente de la siguiente forma:\n",
    "\n",
    "$$\n",
    "\\mathbf{E} = \\lim_{q_{2} \\to 0} \\frac{q_{1}}{4 \\pi \\varepsilon_{0} R^{2}} \\hat{\\mathbf{R}} = \\lim_{q_{2} \\to 0} \\frac{\\mathbf{F}}{q_{2}}\n",
    "$$\n",
    "\n",
    "Esto significa que, existiese o no una carga prueba $q_{2}$, existe un efecto por el simple hecho de existir una carga $q_{1}$ en el espacio. El concepto de que $q_{2}$ tienda a cero se debe al interés de estudiar únicamente el campo creado por la carga $q_{1}$, sin considerar el efecto sobre este del campo creado por $q_{2}$. Este concepto de campo no es manejado de esta forma por la ley de Coulomb."
   ]
  },
  {
   "cell_type": "markdown",
   "id": "044a469f-9cad-42bc-b912-007a6a1e14d9",
   "metadata": {},
   "source": [
    "### Ecuación del campo eléctrico para una distribución de carga volumétrica"
   ]
  },
  {
   "cell_type": "markdown",
   "id": "10656d0f-3779-4712-9f0b-a384c919b7d6",
   "metadata": {},
   "source": [
    "Otro concepto básico es el _principio de la superposición_, donde todos nuestros campos son lineales. Esto quiere decir que si tenemos cuatro carga $q_{1}, q_{2}, q_{3}, q_{4}$:\n",
    "\n",
    "<center><img src = './ftem/images/*'></center>\n",
    "\n",
    "el campo total que existe en el punto $\\mathbf{P}$ es igual a\n",
    "\n",
    "$$\n",
    "\\mathbf{E}(\\mathbf{r}) = \\sum_{i = 1}^{N} \\frac{1}{4 \\pi \\varepsilon_{0}} \\frac{q_{i}}{\\mathbf{R}_{i}} \\hat{\\mathbf{R}}\n",
    "$$\n",
    "\n",
    "En otras palabras, el efecto del campo total que se observa es la contribución individual de cada una de las cargas que estén fijas en el espacio. ¿Qué pasaría, pues, si se hablara de una distribución volumétrica de carga,\n",
    "\n",
    "<img>\n",
    "\n",
    "donde se tiene una carga contenida en $V'$?. Se podría decir que la diferencial de campo que crea una diferencial de carga se puede expresar como:\n",
    "\n",
    "$$\n",
    "d\\mathbf{E} = \\frac{1}{4 \\pi \\varepsilon_{0}} \\frac{dq'}{R} \\hat{\\mathbf{R}}\n",
    "$$\n",
    "\n",
    "Pero como el principio de superposición es aplicable, entonces es la sumatoria y, por ende la integración, la que nos da el campo total en ese punto del espacio producido por la carga:\n",
    "\n",
    "$$\n",
    "\\mathbf{E}(\\mathbf{r}) = \\frac{1}{4 \\pi \\varepsilon_{0}} \\int \\frac{dq'}{R} \\hat{\\mathbf{R}}\n",
    "$$\n",
    "\n",
    "Si ahora se piensa en una densidad volumétrica de carga, la diferencial de carga se puede escribir como\n",
    "\n",
    "$$\n",
    "dq' = \\rho(\\mathbf{r'}) dV'\n",
    "$$\n",
    "\n",
    "De esta forma, se llega a la expresión para el campo:\n",
    "\n",
    "$$\n",
    "\\mathbf{E}(\\mathbf{r}) = \\frac{1}{4 \\pi \\varepsilon_{0}} \\int_{V'} \\frac{\\rho(\\mathbf{r}')}{R(\\mathbf{r}, \\mathbf{r}')} dV'\n",
    "$$\n",
    "\n",
    "donde $\\mathbf{V}$ es todo el volumen. Esta última es la forma más general que se tiene para expresar el campo electrostático producido por una densidad de carga que se encuentra estática en el espacio. La ecuación experimental que nos da la existencia de un campo es:\n",
    "\n",
    "$$\n",
    "\\mathbf{E}(\\mathbf{r}) = \\frac{1}{4 \\pi \\varepsilon_{0}} \\int_{V'} \\frac{\\rho(\\mathbf{r}') \\hat{\\mathbf{R}}}{R(\\mathbf{r}, \\mathbf{r}')} dV'\n",
    "$$"
   ]
  },
  {
   "cell_type": "markdown",
   "id": "fc1baa16-6c17-4ddf-8773-79c082f2353f",
   "metadata": {},
   "source": [
    "### Divergencia del campo eléctrico"
   ]
  },
  {
   "cell_type": "markdown",
   "id": "0bb6c8bd-6401-4241-ba7d-11454856d121",
   "metadata": {},
   "source": [
    "De acuerdo a lo anterior, ya se tiene una expresión que determina el campo en cualquier punto del espacio, pero no se sabe nada con respecto a él. Para poder caracterizar ese campo, es necesario conocer el valor de sus ecuaciones de campo, tanto su divergencia como su rotacional. Siguiendo este razonamiento, se tiene que la divergencia de $\\mathbf{E}$ es igual a:\n",
    "\n",
    "$$\n",
    "\\begin{aligned}\n",
    "    \\nabla \\cdot \\mathbf{E}(\\mathbf{r}) &= \\nabla \\cdot \\left[\\frac{1}{4 \\pi \\varepsilon_{0}} \\int_{V'} \\frac{\\rho(\\mathbf{r}') \\hat{\\mathbf{R}}}{R^{2}(\\mathbf{r}, \\mathbf{r}')} dV' \\right] \\\\\n",
    "    &= \\frac{1}{4 \\pi \\varepsilon_{0}} \\int_{V'} \\nabla \\cdot \\left[\\frac{\\hat{\\mathbf{R}}}{R^{2}(\\mathbf{r}, \\mathbf{r}')}\\right] \\rho(\\mathbf{r}') dV'\n",
    "\\end{aligned}\n",
    "$$\n",
    "\n",
    "El operador nabla puede entrar a la integral y dejar fuera a la densidad de carga dado que este opera sobre las coordenadas de campo ($\\mathbf{r}$), mientras que la integral se lleva a cabo sobre coordenadas de fuente ($\\mathbf{r}'$) y la densidad de carga igual se encuentra referida a estas coordenadas. Del curso de Teoría del Potencial, se tiene conocimiento de la siguiente identidad:\n",
    "\n",
    "$$\n",
    "\\nabla \\cdot \\left(\\frac{\\hat{\\mathbf{R}}}{R^2}\\right) = 4 \\pi \\delta^{3}(\\mathbf{R})\n",
    "$$\n",
    "\n",
    "Sustituyendo este valor, la divergencia del campo eléctrico se reduce a:\n",
    "\n",
    "$$\n",
    "\\begin{aligned}\n",
    "    \\nabla \\cdot \\mathbf{E}(\\mathbf{r}) &= \\frac{1}{4 \\pi \\varepsilon_{0}} \\int_{V'} 4 \\pi \\rho(\\mathbf{r}') \\delta^{3}(\\mathbf{R}) dV' \\\\\n",
    "    &= \\frac{1}{\\varepsilon_{0}} \\int_{V'} \\rho(\\mathbf{r}') \\delta^{3}(\\mathbf{r} - \\mathbf{r}') dV' \\\\\n",
    "    &= \\frac{\\rho(\\mathbf{r})}{\\varepsilon_{0}}\n",
    "\\end{aligned}\n",
    "$$\n",
    "\n",
    "ya que, por las propiedades de la delta de Dirac, el valor de la integral es igual al valor de la función donde el argumento de la delta de Dirac se vuelve cero, lo cual sucede cuando $\\mathbf{r}'$ es igual a $\\mathbf{r}$. La expresión resultante nos indica que la divergencia del campo está íntimamente relacionada a la densidad de carga que existe en el espacio."
   ]
  },
  {
   "cell_type": "markdown",
   "id": "92eaa749-1ac7-47a2-bf1a-26af686d9776",
   "metadata": {},
   "source": [
    "### Rotacional del campo eléctrico"
   ]
  },
  {
   "cell_type": "markdown",
   "id": "4fe05dc6-30ab-412d-8cc1-ee8dbc8a238e",
   "metadata": {},
   "source": [
    "De forma similar, el rotacional de $\\mathbf{E}$ se puede expresar como:\n",
    "\n",
    "$$\n",
    "\\begin{aligned}\n",
    "    \\nabla \\times \\mathbf{E}(\\mathbf{r}) &= \\nabla \\times \\left[\\frac{1}{4 \\pi \\varepsilon_{0}} \\int_{V'} \\frac{\\rho(\\mathbf{r}') \\hat{\\mathbf{R}}}{R^{2}(\\mathbf{r}, \\mathbf{r}')} dV' \\right] \\\\\n",
    "    &= \\frac{1}{4 \\pi \\varepsilon_{0}} \\int_{V'} \\nabla \\times \\left[\\frac{\\hat{\\mathbf{R}}}{R^{2}(\\mathbf{r}, \\mathbf{r}')}\\right] \\rho(\\mathbf{r}') dV'\n",
    "\\end{aligned}\n",
    "$$\n",
    "\n",
    "Al igual que en el caso de la divergencia, el operador nabla puede entrar a la integral dado que esta se opera en coordenadas de campo ($\\mathbf{r}$), mientras que la integral se lleva a cabo sobre coordenadas de fuente ($\\mathbf{r}'$). También cabe recordar que la densidad de carga está referida a coordenadas de fuente, por lo que esta puede salir del operador nabla. Del curso de Teoría de Potencial se conoce la siguiente identidad:\n",
    "\n",
    "$$\n",
    "\\frac{\\hat{\\mathbf{R}}}{R^2} = - \\nabla \\left(\\frac{1}{R}\\right)\n",
    "$$\n",
    "\n",
    "Entonces, el rotacional de esta expresión quedaría como sigue:\n",
    "\n",
    "$$\n",
    "\\nabla \\times \\left(\\frac{\\hat{\\mathbf{R}}}{R^2}\\right) = \\nabla \\times \\left[- \\nabla \\left(\\frac{1}{R}\\right)\\right] = 0\n",
    "$$\n",
    "\n",
    "dado que el rotacional de un gradiente es igual a cero. Por lo que, sustituyendo en la ecuación original, se tiene que el rotacional del campo eléctrico es:\n",
    "\n",
    "$$\n",
    "\\nabla \\times \\mathbf{E}(\\mathbf{r}) = 0\n",
    "$$"
   ]
  },
  {
   "cell_type": "markdown",
   "id": "5fff9bef-f860-44ad-a995-548c4a80a8d4",
   "metadata": {},
   "source": [
    "### Función potencial para el campo eléctrico"
   ]
  },
  {
   "cell_type": "markdown",
   "id": "8138fbd1-5aea-44de-9ccc-724a95ab0000",
   "metadata": {},
   "source": [
    "Una vez conocidas sus ecuaciones de campo, podemos decir que el campo electrostático se comporta de forma _conservativa_ y se puede expresar de la siguiente forma, de acuerdo al teorema de Helmholtz:\n",
    "\n",
    "$$\n",
    "\\mathbf{E}(\\mathbf{r}) = - \\nabla \\phi(\\mathbf{r})\n",
    "$$\n",
    "\n",
    "donde\n",
    "\n",
    "$$\n",
    "\\phi(\\mathbf{r}) = \\frac{1}{4 \\pi \\varepsilon_{0}} \\int_{V'} \\frac{\\rho(\\mathbf{r}')}{R(\\mathbf{r}, \\mathbf{r}')} dV'\n",
    "$$\n",
    "\n",
    "Si sustituimos la ecuación del campo eléctrico acorde al teorema de Helmholtz en la ecuación de la divergencia de $\\mathbf{E}$, tendríamos que $\\phi$ satisface lo que se conoce como la ecuación de Poisson:\n",
    "\n",
    "$$\n",
    "\\nabla^{2} \\phi(\\mathbf{r}) = - \\frac{\\rho(\\mathbf{r})}{\\varepsilon_{0}}\n",
    "$$"
   ]
  },
  {
   "cell_type": "markdown",
   "id": "b69053b6-58f7-43c4-abe5-90262c22ffa8",
   "metadata": {},
   "source": [
    "### Conclusiones físicas del campo eléctrico"
   ]
  },
  {
   "cell_type": "markdown",
   "id": "413dbacd-dc0b-4082-8359-b8c18846ef4d",
   "metadata": {},
   "source": [
    "Como se puede ver, las integrales están definidas sobre todo el espacio, tanto la región que contiene la carga así como todo el espacio donde existe campo. De esta forma, la integral de volumen puede separarse en la integral de volumen donde existe fuente más la integral de volumen donde hay campo pero no hay fuente:\n",
    "\n",
    "$$\n",
    "\\int_{V} \\frac{\\rho(\\mathbf{r}')}{R^2(\\mathbf{r}, \\mathbf{r}')} \\hat{\\mathbf{R}} dV = \\int_{V'} \\frac{\\rho(\\mathbf{r}')}{R^2(\\mathbf{r}, \\mathbf{r}')} \\hat{\\mathbf{R}} dV' + \\int_{V_{0}} \\frac{\\rho(\\mathbf{r}')}{R^2(\\mathbf{r}, \\mathbf{r}')} \\hat{\\mathbf{R}} dV_{0}\n",
    "$$\n",
    "\n",
    "donde la segunda integral contribuye con cero, ya que en la región $\\mathbf{V_{0}}$ el valor de $\\rho = 0$. Así, la integral de volumen en todo el espacio se reduce a una integral exclusivamente en la región donde hay carga."
   ]
  },
  {
   "cell_type": "markdown",
   "id": "b61ae8af-6249-4461-af4b-c2385074c65f",
   "metadata": {},
   "source": [
    "### Resumen de las ecuaciones"
   ]
  },
  {
   "cell_type": "markdown",
   "id": "2ff52388-8c28-4b3a-923f-25eb9e3762f5",
   "metadata": {},
   "source": [
    "Resumiendo, tenemos que las ecuaciones que rigen el campo electrostático en el vacío, obtenidas a partir de la ecuación experimental, son las siguientes:\n",
    "\n",
    "$$\n",
    "\\begin{aligned}\n",
    "    \\nabla \\cdot \\mathbf{E}(\\mathbf{r}) &= \\frac{\\rho(\\mathbf{r})}{\\varepsilon_{0}} \\\\\n",
    "    \\nabla \\times \\mathbf{E}(\\mathbf{r}) &= \\vec{0} \\\\\n",
    "    \\mathbf{E}(\\mathbf{r}) &= - \\nabla \\phi(\\mathbf{r}) \\\\\n",
    "    \\phi(\\mathbf{r}) &= \\frac{1}{4 \\pi \\varepsilon_{0}} \\int_{V'} \\frac{\\rho(\\mathbf{r}')}{R(\\mathbf{r}, \\mathbf{r}')} dV' \\\\\n",
    "    \\nabla^{2}\\phi(\\mathbf{r}) &= - \\frac{\\rho(\\mathbf{r})}{\\varepsilon_{0}} \\\\\n",
    "    \\mathbf{E}(\\mathbf{r}) &= \\frac{1}{4 \\pi \\varepsilon_{0}} \\int_{V'} \\frac{\\rho(\\mathbf{r}') \\hat{\\mathbf{R}}}{R^2(\\mathbf{r}, \\mathbf{r}')} dV'\n",
    "\\end{aligned}\n",
    "$$"
   ]
  }
 ],
 "metadata": {
  "kernelspec": {
   "display_name": "Python 3 (ipykernel)",
   "language": "python",
   "name": "python3"
  },
  "language_info": {
   "codemirror_mode": {
    "name": "ipython",
    "version": 3
   },
   "file_extension": ".py",
   "mimetype": "text/x-python",
   "name": "python",
   "nbconvert_exporter": "python",
   "pygments_lexer": "ipython3",
   "version": "3.10.8"
  }
 },
 "nbformat": 4,
 "nbformat_minor": 5
}
